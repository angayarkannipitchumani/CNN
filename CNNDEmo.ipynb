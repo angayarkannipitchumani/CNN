{
 "cells": [
  {
   "cell_type": "code",
   "execution_count": 11,
   "metadata": {},
   "outputs": [],
   "source": [
    "import  tensorflow as tf"
   ]
  },
  {
   "cell_type": "code",
   "execution_count": 12,
   "metadata": {},
   "outputs": [
    {
     "data": {
      "text/plain": [
       "<module 'tensorflow._api.v2.version' from 'C:\\\\Users\\\\computer_user\\\\Anaconda3\\\\lib\\\\site-packages\\\\tensorflow\\\\_api\\\\v2\\\\version\\\\__init__.py'>"
      ]
     },
     "execution_count": 12,
     "metadata": {},
     "output_type": "execute_result"
    }
   ],
   "source": [
    "tf.version"
   ]
  },
  {
   "cell_type": "code",
   "execution_count": 17,
   "metadata": {},
   "outputs": [
    {
     "name": "stdout",
     "output_type": "stream",
     "text": [
      "Downloading data from http://fashion-mnist.s3-website.eu-central-1.amazonaws.com/train-labels-idx1-ubyte.gz\n",
      "32768/29515 [=================================] - 0s 5us/step\n",
      "Downloading data from http://fashion-mnist.s3-website.eu-central-1.amazonaws.com/train-images-idx3-ubyte.gz\n",
      "26427392/26421880 [==============================] - 29s 1us/step\n",
      "Downloading data from http://fashion-mnist.s3-website.eu-central-1.amazonaws.com/t10k-labels-idx1-ubyte.gz\n",
      "8192/5148 [===============================================] - 0s 0us/step\n",
      "Downloading data from http://fashion-mnist.s3-website.eu-central-1.amazonaws.com/t10k-images-idx3-ubyte.gz\n",
      "4423680/4422102 [==============================] - 4s 1us/step\n"
     ]
    },
    {
     "data": {
      "text/plain": [
       "(60000, 28, 28)"
      ]
     },
     "execution_count": 17,
     "metadata": {},
     "output_type": "execute_result"
    }
   ],
   "source": [
    "#import MNIST dataset\n",
    "from keras.datasets import mnist\n",
    "import matplotlib.pyplot as plt\n",
    "import keras\n",
    "fm=keras.datasets.fashion_mnist\n",
    "#load train and test dataset xtrain data ytrain label will be stored\n",
    "(xtrain,ytrain),(xtest,ytest)=fm.load_data()\n",
    "xtrain[0]#print first row data\n",
    "ytrain[0]\n",
    "#to see its image\n",
    "xtrain.shape"
   ]
  },
  {
   "cell_type": "code",
   "execution_count": 18,
   "metadata": {},
   "outputs": [
    {
     "data": {
      "text/plain": [
       "<matplotlib.image.AxesImage at 0x1cb5a628f88>"
      ]
     },
     "execution_count": 18,
     "metadata": {},
     "output_type": "execute_result"
    },
    {
     "data": {
      "image/png": "[encoded data removed]",
      "text/plain": [
       "<Figure size 288x288 with 1 Axes>"
      ]
     },
     "metadata": {
      "needs_background": "light"
     },
     "output_type": "display_data"
    }
   ],
   "source": [
    "plt.matshow(xtrain[0])\n"
   ]
  },
  {
   "cell_type": "code",
   "execution_count": 19,
   "metadata": {},
   "outputs": [],
   "source": [
    "#preprocessing by normalize\n",
    "xtrain=xtrain/255\n",
    "xtest=xtest/255\n",
    "\n"
   ]
  },
  {
   "cell_type": "code",
   "execution_count": 34,
   "metadata": {},
   "outputs": [
    {
     "name": "stdout",
     "output_type": "stream",
     "text": [
      "Model: \"sequential_3\"\n",
      "_________________________________________________________________\n",
      "Layer (type)                 Output Shape              Param #   \n",
      "=================================================================\n",
      "flatten_3 (Flatten)          (None, 784)               0         \n",
      "_________________________________________________________________\n",
      "dense_6 (Dense)              (None, 200)               157000    \n",
      "_________________________________________________________________\n",
      "dense_7 (Dense)              (None, 200)               40200     \n",
      "_________________________________________________________________\n",
      "dense_8 (Dense)              (None, 10)                2010      \n",
      "=================================================================\n",
      "Total params: 199,210\n",
      "Trainable params: 199,210\n",
      "Non-trainable params: 0\n",
      "_________________________________________________________________\n"
     ]
    }
   ],
   "source": [
    "from keras.models import Sequential\n",
    "from keras.layers import Flatten, Dense, Activation\n",
    "model=Sequential()\n",
    "#covert input to single dimension\n",
    "model.add(Flatten(input_shape=[28,28]))#vector conversion from matrix\n",
    "model.add(Dense(200,activation='relu'))#pass from one to next hidden layer 100 data/200 data from input neuron with 10 data and pass to hidden layer 10X10\n",
    "model.add(Dense(200,activation='relu'))#first give one hidden then add this to check accuracy\n",
    "model.add(Dense(10,activation='softmax'))#ouput is 0 to 9 softmax for output Relu for hidden layer\n",
    "model.summary()\n",
    "\n"
   ]
  },
  {
   "cell_type": "code",
   "execution_count": 35,
   "metadata": {},
   "outputs": [
    {
     "name": "stdout",
     "output_type": "stream",
     "text": [
      "Epoch 1/15\n",
      "60000/60000 [==============================] - 8s 137us/step - loss: 0.4795 - accuracy: 0.8268\n",
      "Epoch 2/15\n",
      "60000/60000 [==============================] - 9s 155us/step - loss: 0.3608 - accuracy: 0.8676\n",
      "Epoch 3/15\n",
      "60000/60000 [==============================] - 9s 156us/step - loss: 0.3214 - accuracy: 0.8816\n",
      "Epoch 4/15\n",
      "60000/60000 [==============================] - 10s 162us/step - loss: 0.2974 - accuracy: 0.8890\n",
      "Epoch 5/15\n",
      "60000/60000 [==============================] - 9s 152us/step - loss: 0.2792 - accuracy: 0.8954\n",
      "Epoch 6/15\n",
      "60000/60000 [==============================] - 9s 147us/step - loss: 0.2665 - accuracy: 0.9003\n",
      "Epoch 7/15\n",
      "60000/60000 [==============================] - 11s 176us/step - loss: 0.2516 - accuracy: 0.9047\n",
      "Epoch 8/15\n",
      "60000/60000 [==============================] - 10s 163us/step - loss: 0.2412 - accuracy: 0.9077\n",
      "Epoch 9/15\n",
      "60000/60000 [==============================] - 10s 161us/step - loss: 0.2314 - accuracy: 0.9121\n",
      "Epoch 10/15\n",
      "60000/60000 [==============================] - 10s 173us/step - loss: 0.2204 - accuracy: 0.9154\n",
      "Epoch 11/15\n",
      "60000/60000 [==============================] - 9s 152us/step - loss: 0.2134 - accuracy: 0.9202\n",
      "Epoch 12/15\n",
      "60000/60000 [==============================] - 11s 175us/step - loss: 0.2029 - accuracy: 0.9223\n",
      "Epoch 13/15\n",
      "60000/60000 [==============================] - 11s 176us/step - loss: 0.2000 - accuracy: 0.9239\n",
      "Epoch 14/15\n",
      "60000/60000 [==============================] - 9s 154us/step - loss: 0.1932 - accuracy: 0.9260\n",
      "Epoch 15/15\n",
      "60000/60000 [==============================] - 10s 170us/step - loss: 0.1832 - accuracy: 0.9290\n"
     ]
    },
    {
     "data": {
      "text/plain": [
       "<keras.callbacks.callbacks.History at 0x1cb5dd93c08>"
      ]
     },
     "execution_count": 35,
     "metadata": {},
     "output_type": "execute_result"
    }
   ],
   "source": [
    "model.compile(loss='sparse_categorical_crossentropy',optimizer='adam',metrics=['accuracy'])\n",
    "model.fit(xtrain,ytrain,epochs=15)#more iteration less loss more accuracy\n"
   ]
  },
  {
   "cell_type": "code",
   "execution_count": 36,
   "metadata": {},
   "outputs": [
    {
     "name": "stdout",
     "output_type": "stream",
     "text": [
      "10000/10000 [==============================] - 1s 55us/step\n",
      "0.3864164087235928\n",
      "0.881600022315979\n"
     ]
    }
   ],
   "source": [
    "loss,acc=model.evaluate(xtest,ytest)\n",
    "print(loss)\n",
    "print(acc) #loss+accuracy=100%"
   ]
  },
  {
   "cell_type": "code",
   "execution_count": 37,
   "metadata": {},
   "outputs": [
    {
     "data": {
      "text/plain": [
       "6"
      ]
     },
     "execution_count": 37,
     "metadata": {},
     "output_type": "execute_result"
    },
    {
     "data": {
      "image/png": "[encoded data removed]",
      "text/plain": [
       "<Figure size 288x288 with 1 Axes>"
      ]
     },
     "metadata": {
      "needs_background": "light"
     },
     "output_type": "display_data"
    }
   ],
   "source": [
    "import numpy as np\n",
    "plt.matshow(xtest[4])#shirts\n",
    "yp=model.predict(xtest)\n",
    "np.argmax(yp[4])"
   ]
  },
  {
   "cell_type": "code",
   "execution_count": 38,
   "metadata": {},
   "outputs": [
    {
     "data": {
      "text/plain": [
       "'Ankle boot'"
      ]
     },
     "execution_count": 38,
     "metadata": {},
     "output_type": "execute_result"
    }
   ],
   "source": [
    "label=[\"T-shirt/top\",\"Trouser\",\"Pullover\",\"Dress\",\"Coat\",\"Sandal\", \"Shirt\",\"Sneaker\",\"Bag\",\"Ankle boot\"]\n",
    "label[np.argmax(yp[0])]"
   ]
  },
  {
   "cell_type": "code",
   "execution_count": null,
   "metadata": {},
   "outputs": [],
   "source": []
  }
 ],
 "metadata": {
  "kernelspec": {
   "display_name": "Python 3",
   "language": "python",
   "name": "python3"
  },
  "language_info": {
   "codemirror_mode": {
    "name": "ipython",
    "version": 3
   },
   "file_extension": ".py",
   "mimetype": "text/x-python",
   "name": "python",
   "nbconvert_exporter": "python",
   "pygments_lexer": "ipython3",
   "version": "3.7.4"
  }
 },
 "nbformat": 4,
 "nbformat_minor": 2
}
